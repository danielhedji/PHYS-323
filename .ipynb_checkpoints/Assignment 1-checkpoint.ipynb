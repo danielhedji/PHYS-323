{
 "cells": [
  {
   "cell_type": "code",
   "execution_count": 18,
   "metadata": {},
   "outputs": [
    {
     "name": "stdout",
     "output_type": "stream",
     "text": [
      "64.0\n",
      "14.0\n"
     ]
    }
   ],
   "source": [
    "import matplotlib.pyplot as plt\n",
    "import numpy as np\n",
    "#1a and 1b\n",
    "stud_grade = np.array([48, 71, 64, 80, 71,\n",
    "62, 48, 57, 82, 68, 53, 59, 91, 62, 46, 62, 64, 62, 68, 55, 66, 64, 50, 100, 77, 86, 89, 57, 57, 66,\n",
    "50, 96, 57, 55, 44, 66, 62, 71, 57, 50, 44])\n",
    "print(round(np.mean(stud_grade)))\n",
    "print(round(np.std(stud_grade)))"
   ]
  },
  {
   "cell_type": "code",
   "execution_count": 38,
   "metadata": {},
   "outputs": [
    {
     "data": {
      "text/plain": [
       "Text(0.5, 1.0, 'Rough histogram with a bins of 5')"
      ]
     },
     "execution_count": 38,
     "metadata": {},
     "output_type": "execute_result"
    },
    {
     "data": {
      "image/png": "[encoded data removed]",
      "text/plain": [
       "<Figure size 432x288 with 1 Axes>"
      ]
     },
     "metadata": {
      "needs_background": "light"
     },
     "output_type": "display_data"
    }
   ],
   "source": [
    "plt.hist(stud_grade, bins = 5, ec = \"white\")\n",
    "plt.xlabel(\"Grades\")\n",
    "plt.ylabel(\"Frequency\")\n",
    "plt.title(\"Rough histogram with a bins of 5\")"
   ]
  },
  {
   "cell_type": "code",
   "execution_count": null,
   "metadata": {},
   "outputs": [],
   "source": []
  }
 ],
 "metadata": {
  "kernelspec": {
   "display_name": "Python 3",
   "language": "python",
   "name": "python3"
  },
  "language_info": {
   "codemirror_mode": {
    "name": "ipython",
    "version": 3
   },
   "file_extension": ".py",
   "mimetype": "text/x-python",
   "name": "python",
   "nbconvert_exporter": "python",
   "pygments_lexer": "ipython3",
   "version": "3.6.8"
  }
 },
 "nbformat": 4,
 "nbformat_minor": 2
}
