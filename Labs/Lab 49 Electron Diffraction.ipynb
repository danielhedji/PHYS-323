{
 "cells": [
  {
   "cell_type": "code",
   "execution_count": 12,
   "metadata": {},
   "outputs": [],
   "source": [
    "#Daniel Hedji, V00887395"
   ]
  },
  {
   "cell_type": "code",
   "execution_count": 1,
   "metadata": {},
   "outputs": [],
   "source": [
    "import numpy as np"
   ]
  },
  {
   "cell_type": "code",
   "execution_count": 2,
   "metadata": {},
   "outputs": [
    {
     "data": {
      "text/plain": [
       "[0.23324950875260883,\n",
       " 0.404,\n",
       " 0.42850670939904784,\n",
       " 0.48724233283766605,\n",
       " 0.5831237718815221,\n",
       " 0.5561037389022417,\n",
       " 0.5442488537560872,\n",
       " 0.722697170327932,\n",
       " 0.7421953920633031,\n",
       " 0.714177848998413,\n",
       " 0.8552481987595656]"
      ]
     },
     "execution_count": 2,
     "metadata": {},
     "output_type": "execute_result"
    }
   ],
   "source": [
    "#constants\n",
    "h = [1,2,2,3,2,3,3,4,4,4,5]\n",
    "k = [1,0,2,1,2,3,3,2,2,4,1]\n",
    "l = [1,0,0,1,2,1,3,0,2,0,1]\n",
    "a = 0.404\n",
    "#applying equation (49.5) for each h,k,l value\n",
    "d = []\n",
    "for i in range(len(h)):\n",
    "    n = i+1\n",
    "    q = n * a / (np.sqrt(h[i] ** 2 + k[i] ** 2 + l[i] ** 2) )\n",
    "    d.append(q)\n",
    "d"
   ]
  },
  {
   "cell_type": "code",
   "execution_count": 7,
   "metadata": {},
   "outputs": [],
   "source": [
    "#sin theta for the 7kV and 8kV cases\n",
    "theta7 = [0.0197,0.0223,0.0336,0.0402,0.0531]\n",
    "theta8 = [0.0193,0.0247,0.0320,0.0386,0.0498]\n",
    "#lists meant to store data\n",
    "lamb_star7 = []\n",
    "lamb_star8 = []"
   ]
  },
  {
   "cell_type": "code",
   "execution_count": 8,
   "metadata": {},
   "outputs": [],
   "source": [
    "#finding the possible lambda star for each voltage\n",
    "for i in range(5):\n",
    "    p = 2 * d[i] * theta7[i] / (i+1)\n",
    "    q = 2 * d[i] * theta8[i] / (i+1)\n",
    "    lamb_star7.append(p)\n",
    "    lamb_star8.append(q)"
   ]
  },
  {
   "cell_type": "code",
   "execution_count": 10,
   "metadata": {},
   "outputs": [
    {
     "name": "stdout",
     "output_type": "stream",
     "text": [
      "[0.009190030644852788, 0.0090092, 0.009598550290538672, 0.009793570890037087, 0.012385548914763529]\n",
      "0.009995380148038416\n",
      "0.0005488987794671424\n"
     ]
    }
   ],
   "source": [
    "#lambda star for 7kV (in nm)\n",
    "print(lamb_star7)\n",
    "print(np.mean(lamb_star7))\n",
    "print(np.std(lamb_star7) / np.sqrt(len(lamb_star7)))"
   ]
  },
  {
   "cell_type": "code",
   "execution_count": 11,
   "metadata": {},
   "outputs": [
    {
     "name": "stdout",
     "output_type": "stream",
     "text": [
      "[0.009003431037850701, 0.009978800000000001, 0.009141476467179688, 0.009403777023766956, 0.011615825535879918]\n",
      "0.009828662012935453\n",
      "0.0004266264062834723\n"
     ]
    }
   ],
   "source": [
    "#lambda star for 8kV (in nm)\n",
    "print(lamb_star8)\n",
    "print(np.mean(lamb_star8))\n",
    "print(np.std(lamb_star8) / np.sqrt(len(lamb_star8)))"
   ]
  },
  {
   "cell_type": "code",
   "execution_count": null,
   "metadata": {},
   "outputs": [],
   "source": []
  }
 ],
 "metadata": {
  "kernelspec": {
   "display_name": "Python 3",
   "language": "python",
   "name": "python3"
  },
  "language_info": {
   "codemirror_mode": {
    "name": "ipython",
    "version": 3
   },
   "file_extension": ".py",
   "mimetype": "text/x-python",
   "name": "python",
   "nbconvert_exporter": "python",
   "pygments_lexer": "ipython3",
   "version": "3.7.3"
  }
 },
 "nbformat": 4,
 "nbformat_minor": 2
}
