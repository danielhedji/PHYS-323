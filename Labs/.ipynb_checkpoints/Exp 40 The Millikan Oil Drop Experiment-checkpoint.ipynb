{
 "cells": [
  {
   "cell_type": "code",
   "execution_count": 1,
   "metadata": {},
   "outputs": [],
   "source": [
    "#Daniel Hedji\n",
    "#V00887395\n",
    "#PHYS 323 Exoeriment 40"
   ]
  },
  {
   "cell_type": "code",
   "execution_count": 2,
   "metadata": {},
   "outputs": [],
   "source": [
    "import matplotlib.pyplot as plt\n",
    "import numpy as np"
   ]
  },
  {
   "cell_type": "code",
   "execution_count": 16,
   "metadata": {},
   "outputs": [],
   "source": [
    "#ascents in m/s\n",
    "vf = [0.0001283,7.761e-005,0.0001184,0.0001104,0.0001212,9.546e-005,\n",
    "     9.362e-005,0.0001038,0.0001178,0.0001065,0.0001133] \n",
    "vf = np.sort(vf)\n",
    "#descents in m/s\n",
    "vg = [8.691e-005,8.926e-005,9.124e-005]\n",
    "#values of (1 + vf/vg)\n",
    "y_ax1 = []\n",
    "y_ax2 = []\n",
    "#list of n values for plot, values were selected through\n",
    "#trial and error\n",
    "n = [2,3,4,5,6,7,8,8,9,11,12]\n",
    "#avg. descents in m/s\n",
    "vg_av = np.mean(vg)\n",
    "y_ind = 0\n",
    "#applies the guesses and finds the y-values\n",
    "#for the elementary charge approximation\n",
    "for i in range(len(vf)):\n",
    "    y_ind = 1 + vf[i]/vg_av\n",
    "    y_ax1.append(y_ind)\n",
    "for j in range(len(y_ax1)):\n",
    "    y_ind = y_ax1[j] / n[j]\n",
    "    y_ax2.append(y_ind)"
   ]
  },
  {
   "cell_type": "code",
   "execution_count": 19,
   "metadata": {},
   "outputs": [
    {
     "data": {
      "text/plain": [
       "array([7.761e-05, 9.362e-05, 9.546e-05, 1.038e-04, 1.065e-04, 1.104e-04,\n",
       "       1.133e-04, 1.178e-04, 1.184e-04, 1.212e-04, 1.283e-04])"
      ]
     },
     "execution_count": 19,
     "metadata": {},
     "output_type": "execute_result"
    }
   ],
   "source": [
    "np.sort(vf)"
   ]
  },
  {
   "cell_type": "code",
   "execution_count": 17,
   "metadata": {
    "scrolled": true
   },
   "outputs": [
    {
     "data": {
      "text/plain": [
       "[1.8706854642683517,\n",
       " 2.050297296286601,\n",
       " 2.070939755431734,\n",
       " 2.1645039452526085,\n",
       " 2.1947945103025317,\n",
       " 2.2385475487079765,\n",
       " 2.271081859317153,\n",
       " 2.321566134400359,\n",
       " 2.3282973710781194,\n",
       " 2.35970980890767,\n",
       " 2.439362776261172]"
      ]
     },
     "execution_count": 17,
     "metadata": {},
     "output_type": "execute_result"
    }
   ],
   "source": [
    "y_ax1"
   ]
  },
  {
   "cell_type": "code",
   "execution_count": 18,
   "metadata": {},
   "outputs": [
    {
     "data": {
      "text/plain": [
       "[0.9353427321341758,\n",
       " 0.6834324320955337,\n",
       " 0.5177349388579335,\n",
       " 0.4329007890505217,\n",
       " 0.36579908505042197,\n",
       " 0.3197925069582824,\n",
       " 0.28388523241464414,\n",
       " 0.2901957668000449,\n",
       " 0.2586997078975688,\n",
       " 0.2145190735370609,\n",
       " 0.20328023135509765]"
      ]
     },
     "execution_count": 18,
     "metadata": {},
     "output_type": "execute_result"
    }
   ],
   "source": [
    "y_ax2"
   ]
  },
  {
   "cell_type": "code",
   "execution_count": 13,
   "metadata": {},
   "outputs": [
    {
     "name": "stdout",
     "output_type": "stream",
     "text": [
      "The slope of the graph is:  0.06449726178279712\n"
     ]
    }
   ],
   "source": [
    "#finds the best fit line\n",
    "f = np.polyfit(n,np.sort(y_ax2),1)\n",
    "t = np.linspace(0,14)\n",
    "print(\"The slope of the graph is: \",f[0])\n",
    "def intercept(x,m,b):\n",
    "    return m*x + b"
   ]
  },
  {
   "cell_type": "code",
   "execution_count": 5,
   "metadata": {},
   "outputs": [
    {
     "data": {
      "text/plain": [
       "<matplotlib.legend.Legend at 0x7f2d9617f6a0>"
      ]
     },
     "execution_count": 5,
     "metadata": {},
     "output_type": "execute_result"
    },
    {
     "data": {
      "image/png": "[encoded data removed]",
      "text/plain": [
       "<Figure size 432x288 with 1 Axes>"
      ]
     },
     "metadata": {
      "needs_background": "light"
     },
     "output_type": "display_data"
    }
   ],
   "source": [
    "#plots results\n",
    "plt.plot(n,np.sort(y_ax2),\"co\")\n",
    "plt.plot(t,intercept(t,f[0],f[1]),color = \"darkorange\", label = \"estimated fit\")\n",
    "plt.xlabel(\"n values\")\n",
    "plt.xlim(-1,15)\n",
    "plt.ylim(-0.5,1.5)\n",
    "plt.grid(True)\n",
    "plt.ylabel(\"1 + vf/vg\")\n",
    "plt.title(\"Elementary charge estimation\")\n",
    "plt.legend()"
   ]
  },
  {
   "cell_type": "code",
   "execution_count": 21,
   "metadata": {},
   "outputs": [
    {
     "data": {
      "text/plain": [
       "0.409598408741026"
      ]
     },
     "execution_count": 21,
     "metadata": {},
     "output_type": "execute_result"
    }
   ],
   "source": [
    "#finds the mean value for the (1 + vf/vg)/n'\n",
    "np.mean(y_ax2)"
   ]
  },
  {
   "cell_type": "code",
   "execution_count": 7,
   "metadata": {},
   "outputs": [
    {
     "data": {
      "text/plain": [
       "8.913666666666668e-05"
      ]
     },
     "execution_count": 7,
     "metadata": {},
     "output_type": "execute_result"
    }
   ],
   "source": [
    "#mean of the gravitational velocity (m/s)\n",
    "vg_av "
   ]
  },
  {
   "cell_type": "code",
   "execution_count": 8,
   "metadata": {},
   "outputs": [
    {
     "data": {
      "text/plain": [
       "1.0218320511418389e-06"
      ]
     },
     "execution_count": 8,
     "metadata": {},
     "output_type": "execute_result"
    }
   ],
   "source": [
    "#standard error of the gravitational velocity\n",
    "#in m/s\n",
    "np.std(vg)/np.sqrt(len(vg))"
   ]
  },
  {
   "cell_type": "code",
   "execution_count": 9,
   "metadata": {},
   "outputs": [
    {
     "data": {
      "text/plain": [
       "0.06473509309342146"
      ]
     },
     "execution_count": 9,
     "metadata": {},
     "output_type": "execute_result"
    }
   ],
   "source": [
    "#standard error of the ratio of velocities\n",
    "np.std(y_ax2)/np.sqrt(len(y_ax2))"
   ]
  },
  {
   "cell_type": "code",
   "execution_count": null,
   "metadata": {},
   "outputs": [],
   "source": []
  }
 ],
 "metadata": {
  "kernelspec": {
   "display_name": "Python 3",
   "language": "python",
   "name": "python3"
  },
  "language_info": {
   "codemirror_mode": {
    "name": "ipython",
    "version": 3
   },
   "file_extension": ".py",
   "mimetype": "text/x-python",
   "name": "python",
   "nbconvert_exporter": "python",
   "pygments_lexer": "ipython3",
   "version": "3.7.3"
  }
 },
 "nbformat": 4,
 "nbformat_minor": 2
}
