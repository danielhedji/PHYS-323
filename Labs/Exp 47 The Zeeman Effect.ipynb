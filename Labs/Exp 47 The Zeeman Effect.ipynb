{
 "cells": [
  {
   "cell_type": "code",
   "execution_count": 62,
   "metadata": {},
   "outputs": [],
   "source": [
    "import numpy as np"
   ]
  },
  {
   "cell_type": "markdown",
   "metadata": {},
   "source": [
    "It should be noted that only two sets of satellites and chief fringes were chosen, and the center point of a third set could not easily be distinguished in the picture produced"
   ]
  },
  {
   "cell_type": "code",
   "execution_count": 63,
   "metadata": {},
   "outputs": [],
   "source": [
    "#constants\n",
    "N = 1.51\n",
    "D = 4.62e-3 #in m\n",
    "dN = 0.00338\n",
    "dlam = 1028e-10 #in m\n",
    "lam = 585.2e-9 #in m"
   ]
  },
  {
   "cell_type": "code",
   "execution_count": 64,
   "metadata": {},
   "outputs": [],
   "source": [
    "s = [[232,237],[113,119]] #satellite measurements"
   ]
  },
  {
   "cell_type": "code",
   "execution_count": 74,
   "metadata": {},
   "outputs": [
    {
     "name": "stdout",
     "output_type": "stream",
     "text": [
      "[234.5, 116.0]\n"
     ]
    }
   ],
   "source": [
    "#calculating chief fringe locations\n",
    "chief = []\n",
    "for sat in s:\n",
    "    dist = (sat[1] + sat[0]) / 2\n",
    "    chief.append(dist)\n",
    "print(chief) #in pix"
   ]
  },
  {
   "cell_type": "code",
   "execution_count": 84,
   "metadata": {},
   "outputs": [
    {
     "data": {
      "text/plain": [
       "118.5"
      ]
     },
     "execution_count": 84,
     "metadata": {},
     "output_type": "execute_result"
    }
   ],
   "source": [
    "c = abs(chief[1] - chief[0])\n",
    "c #in pix"
   ]
  },
  {
   "cell_type": "code",
   "execution_count": 76,
   "metadata": {},
   "outputs": [
    {
     "data": {
      "text/plain": [
       "118"
      ]
     },
     "execution_count": 76,
     "metadata": {},
     "output_type": "execute_result"
    }
   ],
   "source": [
    "#calculating c'\n",
    "c_prime = abs(s[1][1] - s[0][1])\n",
    "c_prime #in pix"
   ]
  },
  {
   "cell_type": "code",
   "execution_count": 86,
   "metadata": {},
   "outputs": [
    {
     "name": "stdout",
     "output_type": "stream",
     "text": [
      "[-113.5, 5.5]\n",
      "-54.0 +/- 42.07\n"
     ]
    }
   ],
   "source": [
    "#calculating s'\n",
    "s_prime = []\n",
    "for i in range(len(s)):\n",
    "    dist = c - s[i][0]\n",
    "    s_prime.append(dist)\n",
    "print(s_prime) #in pix\n",
    "print(np.mean(s_prime), \"+/-\", \\\n",
    "      round(np.std(s_prime) / np.sqrt(len(s_prime)),2))"
   ]
  },
  {
   "cell_type": "code",
   "execution_count": 80,
   "metadata": {},
   "outputs": [
    {
     "name": "stdout",
     "output_type": "stream",
     "text": [
      "3.3518556617627954e-11\n"
     ]
    }
   ],
   "source": [
    "#calculating R\n",
    "num = lam ** 2 * (N ** 2 - 1) ** 0.5\n",
    "term = N * lam * (dN / dlam)\n",
    "denom = 2 * D * (N ** 2 - 1 - term)\n",
    "R = num / denom\n",
    "print(R)\n",
    "#R is assumed to have no uncertainty due to it\n",
    "#being made up of measured constants"
   ]
  },
  {
   "cell_type": "code",
   "execution_count": 85,
   "metadata": {},
   "outputs": [
    {
     "data": {
      "text/plain": [
       "-1.530657130952989e-11"
      ]
     },
     "execution_count": 85,
     "metadata": {},
     "output_type": "execute_result"
    }
   ],
   "source": [
    "#calculating change in lambda\n",
    "change_num = (2 * np.mean(s_prime) * R)\n",
    "change_denom = (c_prime + c)\n",
    "change_lam = change_num / change_denom\n",
    "change_lam"
   ]
  },
  {
   "cell_type": "code",
   "execution_count": 82,
   "metadata": {},
   "outputs": [
    {
     "data": {
      "text/plain": [
       "13409170055.0"
      ]
     },
     "execution_count": 82,
     "metadata": {},
     "output_type": "execute_result"
    }
   ],
   "source": [
    "#calculating the frequency\n",
    "v_light = 3e8 #m/s (approximately)\n",
    "f1 = v_light / (lam + change_lam )\n",
    "f2 = v_light / lam\n",
    "change_freq = f1 - f2\n",
    "change_freq #in s ** -1"
   ]
  },
  {
   "cell_type": "code",
   "execution_count": 83,
   "metadata": {},
   "outputs": [
    {
     "name": "stdout",
     "output_type": "stream",
     "text": [
      "2.509863298995198e-23\n"
     ]
    }
   ],
   "source": [
    "#calculating the Bohr magneton\n",
    "h = 6.626e-34 #Js\n",
    "B = 3.54e3 #in Gauss\n",
    "B = B / 10000 #in Tesla\n",
    "Bohr = change_freq * h / B\n",
    "print(Bohr)"
   ]
  },
  {
   "cell_type": "code",
   "execution_count": null,
   "metadata": {},
   "outputs": [],
   "source": []
  }
 ],
 "metadata": {
  "kernelspec": {
   "display_name": "Python 3",
   "language": "python",
   "name": "python3"
  },
  "language_info": {
   "codemirror_mode": {
    "name": "ipython",
    "version": 3
   },
   "file_extension": ".py",
   "mimetype": "text/x-python",
   "name": "python",
   "nbconvert_exporter": "python",
   "pygments_lexer": "ipython3",
   "version": "3.7.3"
  }
 },
 "nbformat": 4,
 "nbformat_minor": 2
}
