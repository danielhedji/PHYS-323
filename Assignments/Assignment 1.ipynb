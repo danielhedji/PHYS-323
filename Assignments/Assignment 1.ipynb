{
 "cells": [
  {
   "cell_type": "code",
   "execution_count": 17,
   "metadata": {},
   "outputs": [
    {
     "name": "stdout",
     "output_type": "stream",
     "text": [
      "64.3170731707317\n",
      "13.873011216536884\n",
      "44\n",
      "2\n"
     ]
    }
   ],
   "source": [
    "import matplotlib.pyplot as plt\n",
    "import numpy as np\n",
    "#1a and 1b\n",
    "stud_grade = np.array([48, 71, 64, 80, 71,\n",
    "62, 48, 57, 82, 68, 53, 59, 91, 62, 46, 62, 64, 62, 68, 55, 66, 64, 50, 100, 77, 86, 89, 57, 57, 66,\n",
    "50, 96, 57, 55, 44, 66, 62, 71, 57, 50, 44])\n",
    "print(np.mean(stud_grade))\n",
    "print(np.std(stud_grade))\n",
    "print(min(stud_grade))\n",
    "count = 0\n",
    "for i in stud_grade:\n",
    "    if i >= 96 and i <= 100:\n",
    "        count += 1\n",
    "print(count)"
   ]
  },
  {
   "cell_type": "code",
   "execution_count": 18,
   "metadata": {},
   "outputs": [
    {
     "data": {
      "text/plain": [
       "Text(0.5, 1.0, 'Rough histogram with a bins of 5')"
      ]
     },
     "execution_count": 18,
     "metadata": {},
     "output_type": "execute_result"
    },
    {
     "data": {
      "image/png": "[encoded data removed]",
      "text/plain": [
       "<Figure size 432x288 with 1 Axes>"
      ]
     },
     "metadata": {
      "needs_background": "light"
     },
     "output_type": "display_data"
    }
   ],
   "source": [
    "plt.hist(stud_grade, ec = \"white\")\n",
    "plt.xlabel(\"Grades\")\n",
    "plt.ylabel(\"Frequency\")\n",
    "plt.title(\"Rough histogram with a bins of 5\")"
   ]
  },
  {
   "cell_type": "code",
   "execution_count": 22,
   "metadata": {},
   "outputs": [
    {
     "data": {
      "text/plain": [
       "3863.1315000000004"
      ]
     },
     "execution_count": 22,
     "metadata": {},
     "output_type": "execute_result"
    }
   ],
   "source": [
    "w = [42.5,48,53.5,58,63.5,68,73,78,83,88,93,98]\n",
    "v = [0.195,0.146,0.146,0.122,0.073,0.073,0.049,0.049,0.049,0.049,0.024,0.024]\n",
    "li = []\n",
    "for i,j in zip(w,v):\n",
    "    li.append(i**2 * j)\n",
    "sum(li)"
   ]
  },
  {
   "cell_type": "code",
   "execution_count": null,
   "metadata": {},
   "outputs": [],
   "source": []
  }
 ],
 "metadata": {
  "kernelspec": {
   "display_name": "Python 3",
   "language": "python",
   "name": "python3"
  },
  "language_info": {
   "codemirror_mode": {
    "name": "ipython",
    "version": 3
   },
   "file_extension": ".py",
   "mimetype": "text/x-python",
   "name": "python",
   "nbconvert_exporter": "python",
   "pygments_lexer": "ipython3",
   "version": "3.6.8"
  }
 },
 "nbformat": 4,
 "nbformat_minor": 2
}
